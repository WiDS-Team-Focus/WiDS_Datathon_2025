{
 "cells": [
  {
   "cell_type": "code",
   "execution_count": 1,
   "id": "fd0baa23",
   "metadata": {
    "_cell_guid": "b1076dfc-b9ad-4769-8c92-a6c4dae69d19",
    "_uuid": "8f2839f25d086af736a60e9eeb907d3b93b6e0e5",
    "execution": {
     "iopub.execute_input": "2025-03-22T17:09:13.233804Z",
     "iopub.status.busy": "2025-03-22T17:09:13.233391Z",
     "iopub.status.idle": "2025-03-22T17:09:14.268038Z",
     "shell.execute_reply": "2025-03-22T17:09:14.266608Z"
    },
    "papermill": {
     "duration": 1.044127,
     "end_time": "2025-03-22T17:09:14.270135",
     "exception": false,
     "start_time": "2025-03-22T17:09:13.226008",
     "status": "completed"
    },
    "tags": []
   },
   "outputs": [
    {
     "name": "stdout",
     "output_type": "stream",
     "text": [
      "/kaggle/input/widsdatathon2025/SAMPLE_SUBMISSION.xlsx\n",
      "/kaggle/input/widsdatathon2025/Data Dictionary.xlsx\n",
      "/kaggle/input/widsdatathon2025/TRAIN_OLD/TRAIN_FUNCTIONAL_CONNECTOME_MATRICES.csv\n",
      "/kaggle/input/widsdatathon2025/TRAIN_OLD/TRAINING_SOLUTIONS.xlsx\n",
      "/kaggle/input/widsdatathon2025/TRAIN_OLD/TRAIN_CATEGORICAL_METADATA.xlsx\n",
      "/kaggle/input/widsdatathon2025/TRAIN_OLD/TRAIN_QUANTITATIVE_METADATA.xlsx\n",
      "/kaggle/input/widsdatathon2025/TRAIN_NEW/TRAINING_SOLUTIONS.xlsx\n",
      "/kaggle/input/widsdatathon2025/TRAIN_NEW/TRAIN_FUNCTIONAL_CONNECTOME_MATRICES_new_36P_Pearson.csv\n",
      "/kaggle/input/widsdatathon2025/TRAIN_NEW/TRAIN_CATEGORICAL_METADATA_new.xlsx\n",
      "/kaggle/input/widsdatathon2025/TRAIN_NEW/TRAIN_QUANTITATIVE_METADATA_new.xlsx\n",
      "/kaggle/input/widsdatathon2025/TEST/TEST_FUNCTIONAL_CONNECTOME_MATRICES.csv\n",
      "/kaggle/input/widsdatathon2025/TEST/TEST_CATEGORICAL.xlsx\n",
      "/kaggle/input/widsdatathon2025/TEST/TEST_QUANTITATIVE_METADATA.xlsx\n"
     ]
    }
   ],
   "source": [
    "# This Python 3 environment comes with many helpful analytics libraries installed\n",
    "# It is defined by the kaggle/python Docker image: https://github.com/kaggle/docker-python\n",
    "# For example, here's several helpful packages to load\n",
    "\n",
    "import numpy as np # linear algebra\n",
    "import pandas as pd # data processing, CSV file I/O (e.g. pd.read_csv)\n",
    "\n",
    "# Input data files are available in the read-only \"../input/\" directory\n",
    "# For example, running this (by clicking run or pressing Shift+Enter) will list all files under the input directory\n",
    "\n",
    "import os\n",
    "for dirname, _, filenames in os.walk('/kaggle/input'):\n",
    "    for filename in filenames:\n",
    "        print(os.path.join(dirname, filename))\n",
    "\n",
    "# You can write up to 20GB to the current directory (/kaggle/working/) that gets preserved as output when you create a version using \"Save & Run All\" \n",
    "# You can also write temporary files to /kaggle/temp/, but they won't be saved outside of the current session"
   ]
  },
  {
   "cell_type": "code",
   "execution_count": 2,
   "id": "5ddd0be0",
   "metadata": {
    "execution": {
     "iopub.execute_input": "2025-03-22T17:09:14.282896Z",
     "iopub.status.busy": "2025-03-22T17:09:14.282418Z",
     "iopub.status.idle": "2025-03-22T17:09:16.418215Z",
     "shell.execute_reply": "2025-03-22T17:09:16.417068Z"
    },
    "papermill": {
     "duration": 2.144633,
     "end_time": "2025-03-22T17:09:16.420618",
     "exception": false,
     "start_time": "2025-03-22T17:09:14.275985",
     "status": "completed"
    },
    "tags": []
   },
   "outputs": [],
   "source": [
    "import seaborn as sns\n",
    "import matplotlib.pyplot as plt\n",
    "from sklearn.model_selection import train_test_split\n",
    "from sklearn.preprocessing import StandardScaler"
   ]
  },
  {
   "cell_type": "markdown",
   "id": "21cd1368",
   "metadata": {
    "papermill": {
     "duration": 0.005206,
     "end_time": "2025-03-22T17:09:16.431469",
     "exception": false,
     "start_time": "2025-03-22T17:09:16.426263",
     "status": "completed"
    },
    "tags": []
   },
   "source": [
    "# 1. data visualization\n",
    "## a. fMRI dataset-- functional connectome matrices"
   ]
  },
  {
   "cell_type": "code",
   "execution_count": 3,
   "id": "49f5b16b",
   "metadata": {
    "execution": {
     "iopub.execute_input": "2025-03-22T17:09:16.444384Z",
     "iopub.status.busy": "2025-03-22T17:09:16.443784Z",
     "iopub.status.idle": "2025-03-22T17:09:33.164080Z",
     "shell.execute_reply": "2025-03-22T17:09:33.163065Z"
    },
    "papermill": {
     "duration": 16.728819,
     "end_time": "2025-03-22T17:09:33.166008",
     "exception": false,
     "start_time": "2025-03-22T17:09:16.437189",
     "status": "completed"
    },
    "tags": []
   },
   "outputs": [],
   "source": [
    "filename = os.path.join(os.getcwd(), \"/kaggle/input/widsdatathon2025/TRAIN_OLD/TRAIN_FUNCTIONAL_CONNECTOME_MATRICES.csv\")\n",
    "fmri = pd.read_csv(filename, header=0)"
   ]
  },
  {
   "cell_type": "code",
   "execution_count": 4,
   "id": "517eb916",
   "metadata": {
    "execution": {
     "iopub.execute_input": "2025-03-22T17:09:33.178400Z",
     "iopub.status.busy": "2025-03-22T17:09:33.178011Z",
     "iopub.status.idle": "2025-03-22T17:09:33.220441Z",
     "shell.execute_reply": "2025-03-22T17:09:33.219250Z"
    },
    "papermill": {
     "duration": 0.050279,
     "end_time": "2025-03-22T17:09:33.222059",
     "exception": false,
     "start_time": "2025-03-22T17:09:33.171780",
     "status": "completed"
    },
    "tags": []
   },
   "outputs": [
    {
     "data": {
      "text/html": [
       "<div>\n",
       "<style scoped>\n",
       "    .dataframe tbody tr th:only-of-type {\n",
       "        vertical-align: middle;\n",
       "    }\n",
       "\n",
       "    .dataframe tbody tr th {\n",
       "        vertical-align: top;\n",
       "    }\n",
       "\n",
       "    .dataframe thead th {\n",
       "        text-align: right;\n",
       "    }\n",
       "</style>\n",
       "<table border=\"1\" class=\"dataframe\">\n",
       "  <thead>\n",
       "    <tr style=\"text-align: right;\">\n",
       "      <th></th>\n",
       "      <th>participant_id</th>\n",
       "      <th>0throw_1thcolumn</th>\n",
       "      <th>0throw_2thcolumn</th>\n",
       "      <th>0throw_3thcolumn</th>\n",
       "      <th>0throw_4thcolumn</th>\n",
       "      <th>0throw_5thcolumn</th>\n",
       "      <th>0throw_6thcolumn</th>\n",
       "      <th>0throw_7thcolumn</th>\n",
       "      <th>0throw_8thcolumn</th>\n",
       "      <th>0throw_9thcolumn</th>\n",
       "      <th>...</th>\n",
       "      <th>195throw_196thcolumn</th>\n",
       "      <th>195throw_197thcolumn</th>\n",
       "      <th>195throw_198thcolumn</th>\n",
       "      <th>195throw_199thcolumn</th>\n",
       "      <th>196throw_197thcolumn</th>\n",
       "      <th>196throw_198thcolumn</th>\n",
       "      <th>196throw_199thcolumn</th>\n",
       "      <th>197throw_198thcolumn</th>\n",
       "      <th>197throw_199thcolumn</th>\n",
       "      <th>198throw_199thcolumn</th>\n",
       "    </tr>\n",
       "  </thead>\n",
       "  <tbody>\n",
       "    <tr>\n",
       "      <th>0</th>\n",
       "      <td>70z8Q2xdTXM3</td>\n",
       "      <td>0.093473</td>\n",
       "      <td>0.146902</td>\n",
       "      <td>0.067893</td>\n",
       "      <td>0.015141</td>\n",
       "      <td>0.070221</td>\n",
       "      <td>0.063997</td>\n",
       "      <td>0.055382</td>\n",
       "      <td>-0.035335</td>\n",
       "      <td>0.068583</td>\n",
       "      <td>...</td>\n",
       "      <td>0.003404</td>\n",
       "      <td>-0.010359</td>\n",
       "      <td>-0.050968</td>\n",
       "      <td>-0.014365</td>\n",
       "      <td>0.128066</td>\n",
       "      <td>0.112646</td>\n",
       "      <td>-0.058980</td>\n",
       "      <td>0.028228</td>\n",
       "      <td>0.133582</td>\n",
       "      <td>0.143372</td>\n",
       "    </tr>\n",
       "    <tr>\n",
       "      <th>1</th>\n",
       "      <td>WHWymJu6zNZi</td>\n",
       "      <td>0.029580</td>\n",
       "      <td>0.179323</td>\n",
       "      <td>0.112933</td>\n",
       "      <td>0.038291</td>\n",
       "      <td>0.104899</td>\n",
       "      <td>0.064250</td>\n",
       "      <td>0.008488</td>\n",
       "      <td>0.077505</td>\n",
       "      <td>-0.004750</td>\n",
       "      <td>...</td>\n",
       "      <td>-0.008409</td>\n",
       "      <td>-0.008479</td>\n",
       "      <td>0.020891</td>\n",
       "      <td>0.017754</td>\n",
       "      <td>0.094040</td>\n",
       "      <td>0.035141</td>\n",
       "      <td>0.032537</td>\n",
       "      <td>0.075007</td>\n",
       "      <td>0.115350</td>\n",
       "      <td>0.138200</td>\n",
       "    </tr>\n",
       "    <tr>\n",
       "      <th>2</th>\n",
       "      <td>4PAQp1M6EyAo</td>\n",
       "      <td>-0.051580</td>\n",
       "      <td>0.139734</td>\n",
       "      <td>0.068295</td>\n",
       "      <td>0.046991</td>\n",
       "      <td>0.111085</td>\n",
       "      <td>0.026978</td>\n",
       "      <td>0.151377</td>\n",
       "      <td>0.021198</td>\n",
       "      <td>0.083721</td>\n",
       "      <td>...</td>\n",
       "      <td>0.053245</td>\n",
       "      <td>-0.028003</td>\n",
       "      <td>0.028773</td>\n",
       "      <td>0.024556</td>\n",
       "      <td>0.166343</td>\n",
       "      <td>0.058925</td>\n",
       "      <td>0.035485</td>\n",
       "      <td>0.063661</td>\n",
       "      <td>0.042862</td>\n",
       "      <td>0.162162</td>\n",
       "    </tr>\n",
       "    <tr>\n",
       "      <th>3</th>\n",
       "      <td>obEacy4Of68I</td>\n",
       "      <td>0.016273</td>\n",
       "      <td>0.204702</td>\n",
       "      <td>0.115980</td>\n",
       "      <td>0.043103</td>\n",
       "      <td>0.056431</td>\n",
       "      <td>0.057615</td>\n",
       "      <td>0.055773</td>\n",
       "      <td>0.075030</td>\n",
       "      <td>0.001033</td>\n",
       "      <td>...</td>\n",
       "      <td>-0.023918</td>\n",
       "      <td>-0.005356</td>\n",
       "      <td>0.018607</td>\n",
       "      <td>0.016193</td>\n",
       "      <td>0.072955</td>\n",
       "      <td>0.130135</td>\n",
       "      <td>0.056120</td>\n",
       "      <td>0.084784</td>\n",
       "      <td>0.114148</td>\n",
       "      <td>0.190584</td>\n",
       "    </tr>\n",
       "    <tr>\n",
       "      <th>4</th>\n",
       "      <td>s7WzzDcmDOhF</td>\n",
       "      <td>0.065771</td>\n",
       "      <td>0.098714</td>\n",
       "      <td>0.097604</td>\n",
       "      <td>0.112988</td>\n",
       "      <td>0.071139</td>\n",
       "      <td>0.085607</td>\n",
       "      <td>0.019392</td>\n",
       "      <td>-0.036403</td>\n",
       "      <td>-0.020375</td>\n",
       "      <td>...</td>\n",
       "      <td>0.066439</td>\n",
       "      <td>-0.076680</td>\n",
       "      <td>-0.047530</td>\n",
       "      <td>-0.031443</td>\n",
       "      <td>0.221213</td>\n",
       "      <td>0.007343</td>\n",
       "      <td>0.005763</td>\n",
       "      <td>0.083820</td>\n",
       "      <td>0.079582</td>\n",
       "      <td>0.067269</td>\n",
       "    </tr>\n",
       "  </tbody>\n",
       "</table>\n",
       "<p>5 rows × 19901 columns</p>\n",
       "</div>"
      ],
      "text/plain": [
       "  participant_id  0throw_1thcolumn  0throw_2thcolumn  0throw_3thcolumn  \\\n",
       "0   70z8Q2xdTXM3          0.093473          0.146902          0.067893   \n",
       "1   WHWymJu6zNZi          0.029580          0.179323          0.112933   \n",
       "2   4PAQp1M6EyAo         -0.051580          0.139734          0.068295   \n",
       "3   obEacy4Of68I          0.016273          0.204702          0.115980   \n",
       "4   s7WzzDcmDOhF          0.065771          0.098714          0.097604   \n",
       "\n",
       "   0throw_4thcolumn  0throw_5thcolumn  0throw_6thcolumn  0throw_7thcolumn  \\\n",
       "0          0.015141          0.070221          0.063997          0.055382   \n",
       "1          0.038291          0.104899          0.064250          0.008488   \n",
       "2          0.046991          0.111085          0.026978          0.151377   \n",
       "3          0.043103          0.056431          0.057615          0.055773   \n",
       "4          0.112988          0.071139          0.085607          0.019392   \n",
       "\n",
       "   0throw_8thcolumn  0throw_9thcolumn  ...  195throw_196thcolumn  \\\n",
       "0         -0.035335          0.068583  ...              0.003404   \n",
       "1          0.077505         -0.004750  ...             -0.008409   \n",
       "2          0.021198          0.083721  ...              0.053245   \n",
       "3          0.075030          0.001033  ...             -0.023918   \n",
       "4         -0.036403         -0.020375  ...              0.066439   \n",
       "\n",
       "   195throw_197thcolumn  195throw_198thcolumn  195throw_199thcolumn  \\\n",
       "0             -0.010359             -0.050968             -0.014365   \n",
       "1             -0.008479              0.020891              0.017754   \n",
       "2             -0.028003              0.028773              0.024556   \n",
       "3             -0.005356              0.018607              0.016193   \n",
       "4             -0.076680             -0.047530             -0.031443   \n",
       "\n",
       "   196throw_197thcolumn  196throw_198thcolumn  196throw_199thcolumn  \\\n",
       "0              0.128066              0.112646             -0.058980   \n",
       "1              0.094040              0.035141              0.032537   \n",
       "2              0.166343              0.058925              0.035485   \n",
       "3              0.072955              0.130135              0.056120   \n",
       "4              0.221213              0.007343              0.005763   \n",
       "\n",
       "   197throw_198thcolumn  197throw_199thcolumn  198throw_199thcolumn  \n",
       "0              0.028228              0.133582              0.143372  \n",
       "1              0.075007              0.115350              0.138200  \n",
       "2              0.063661              0.042862              0.162162  \n",
       "3              0.084784              0.114148              0.190584  \n",
       "4              0.083820              0.079582              0.067269  \n",
       "\n",
       "[5 rows x 19901 columns]"
      ]
     },
     "execution_count": 4,
     "metadata": {},
     "output_type": "execute_result"
    }
   ],
   "source": [
    "fmri.head()"
   ]
  },
  {
   "cell_type": "markdown",
   "id": "945fa946",
   "metadata": {
    "papermill": {
     "duration": 0.005498,
     "end_time": "2025-03-22T17:09:33.233446",
     "exception": false,
     "start_time": "2025-03-22T17:09:33.227948",
     "status": "completed"
    },
    "tags": []
   },
   "source": [
    "## b. quantitative data"
   ]
  },
  {
   "cell_type": "code",
   "execution_count": 5,
   "id": "deb56de4",
   "metadata": {
    "execution": {
     "iopub.execute_input": "2025-03-22T17:09:33.246016Z",
     "iopub.status.busy": "2025-03-22T17:09:33.245630Z",
     "iopub.status.idle": "2025-03-22T17:09:33.467374Z",
     "shell.execute_reply": "2025-03-22T17:09:33.465916Z"
    },
    "papermill": {
     "duration": 0.22993,
     "end_time": "2025-03-22T17:09:33.468977",
     "exception": true,
     "start_time": "2025-03-22T17:09:33.239047",
     "status": "failed"
    },
    "tags": []
   },
   "outputs": [
    {
     "ename": "FileNotFoundError",
     "evalue": "[Errno 2] No such file or directory: '/kaggle/input/widsdatathon2025/TRAIN/TRAIN_QUANTITATIVE_METADATA.xlsx'",
     "output_type": "error",
     "traceback": [
      "\u001b[0;31m---------------------------------------------------------------------------\u001b[0m",
      "\u001b[0;31mFileNotFoundError\u001b[0m                         Traceback (most recent call last)",
      "\u001b[0;32m<ipython-input-5-be22b7c05df7>\u001b[0m in \u001b[0;36m<cell line: 2>\u001b[0;34m()\u001b[0m\n\u001b[1;32m      1\u001b[0m \u001b[0mfilenameq\u001b[0m \u001b[0;34m=\u001b[0m \u001b[0mos\u001b[0m\u001b[0;34m.\u001b[0m\u001b[0mpath\u001b[0m\u001b[0;34m.\u001b[0m\u001b[0mjoin\u001b[0m\u001b[0;34m(\u001b[0m\u001b[0mos\u001b[0m\u001b[0;34m.\u001b[0m\u001b[0mgetcwd\u001b[0m\u001b[0;34m(\u001b[0m\u001b[0;34m)\u001b[0m\u001b[0;34m,\u001b[0m \u001b[0;34m\"/kaggle/input/widsdatathon2025/TRAIN/TRAIN_QUANTITATIVE_METADATA.xlsx\"\u001b[0m\u001b[0;34m)\u001b[0m\u001b[0;34m\u001b[0m\u001b[0;34m\u001b[0m\u001b[0m\n\u001b[0;32m----> 2\u001b[0;31m \u001b[0mquant\u001b[0m \u001b[0;34m=\u001b[0m \u001b[0mpd\u001b[0m\u001b[0;34m.\u001b[0m\u001b[0mread_excel\u001b[0m\u001b[0;34m(\u001b[0m\u001b[0mfilenameq\u001b[0m\u001b[0;34m)\u001b[0m\u001b[0;34m\u001b[0m\u001b[0;34m\u001b[0m\u001b[0m\n\u001b[0m\u001b[1;32m      3\u001b[0m \u001b[0mquant\u001b[0m\u001b[0;34m.\u001b[0m\u001b[0mhead\u001b[0m\u001b[0;34m(\u001b[0m\u001b[0;34m)\u001b[0m\u001b[0;34m\u001b[0m\u001b[0;34m\u001b[0m\u001b[0m\n",
      "\u001b[0;32m/usr/local/lib/python3.10/dist-packages/pandas/io/excel/_base.py\u001b[0m in \u001b[0;36mread_excel\u001b[0;34m(io, sheet_name, header, names, index_col, usecols, dtype, engine, converters, true_values, false_values, skiprows, nrows, na_values, keep_default_na, na_filter, verbose, parse_dates, date_parser, date_format, thousands, decimal, comment, skipfooter, storage_options, dtype_backend, engine_kwargs)\u001b[0m\n\u001b[1;32m    493\u001b[0m     \u001b[0;32mif\u001b[0m \u001b[0;32mnot\u001b[0m \u001b[0misinstance\u001b[0m\u001b[0;34m(\u001b[0m\u001b[0mio\u001b[0m\u001b[0;34m,\u001b[0m \u001b[0mExcelFile\u001b[0m\u001b[0;34m)\u001b[0m\u001b[0;34m:\u001b[0m\u001b[0;34m\u001b[0m\u001b[0;34m\u001b[0m\u001b[0m\n\u001b[1;32m    494\u001b[0m         \u001b[0mshould_close\u001b[0m \u001b[0;34m=\u001b[0m \u001b[0;32mTrue\u001b[0m\u001b[0;34m\u001b[0m\u001b[0;34m\u001b[0m\u001b[0m\n\u001b[0;32m--> 495\u001b[0;31m         io = ExcelFile(\n\u001b[0m\u001b[1;32m    496\u001b[0m             \u001b[0mio\u001b[0m\u001b[0;34m,\u001b[0m\u001b[0;34m\u001b[0m\u001b[0;34m\u001b[0m\u001b[0m\n\u001b[1;32m    497\u001b[0m             \u001b[0mstorage_options\u001b[0m\u001b[0;34m=\u001b[0m\u001b[0mstorage_options\u001b[0m\u001b[0;34m,\u001b[0m\u001b[0;34m\u001b[0m\u001b[0;34m\u001b[0m\u001b[0m\n",
      "\u001b[0;32m/usr/local/lib/python3.10/dist-packages/pandas/io/excel/_base.py\u001b[0m in \u001b[0;36m__init__\u001b[0;34m(self, path_or_buffer, engine, storage_options, engine_kwargs)\u001b[0m\n\u001b[1;32m   1548\u001b[0m                 \u001b[0mext\u001b[0m \u001b[0;34m=\u001b[0m \u001b[0;34m\"xls\"\u001b[0m\u001b[0;34m\u001b[0m\u001b[0;34m\u001b[0m\u001b[0m\n\u001b[1;32m   1549\u001b[0m             \u001b[0;32melse\u001b[0m\u001b[0;34m:\u001b[0m\u001b[0;34m\u001b[0m\u001b[0;34m\u001b[0m\u001b[0m\n\u001b[0;32m-> 1550\u001b[0;31m                 ext = inspect_excel_format(\n\u001b[0m\u001b[1;32m   1551\u001b[0m                     \u001b[0mcontent_or_path\u001b[0m\u001b[0;34m=\u001b[0m\u001b[0mpath_or_buffer\u001b[0m\u001b[0;34m,\u001b[0m \u001b[0mstorage_options\u001b[0m\u001b[0;34m=\u001b[0m\u001b[0mstorage_options\u001b[0m\u001b[0;34m\u001b[0m\u001b[0;34m\u001b[0m\u001b[0m\n\u001b[1;32m   1552\u001b[0m                 )\n",
      "\u001b[0;32m/usr/local/lib/python3.10/dist-packages/pandas/io/excel/_base.py\u001b[0m in \u001b[0;36minspect_excel_format\u001b[0;34m(content_or_path, storage_options)\u001b[0m\n\u001b[1;32m   1400\u001b[0m         \u001b[0mcontent_or_path\u001b[0m \u001b[0;34m=\u001b[0m \u001b[0mBytesIO\u001b[0m\u001b[0;34m(\u001b[0m\u001b[0mcontent_or_path\u001b[0m\u001b[0;34m)\u001b[0m\u001b[0;34m\u001b[0m\u001b[0;34m\u001b[0m\u001b[0m\n\u001b[1;32m   1401\u001b[0m \u001b[0;34m\u001b[0m\u001b[0m\n\u001b[0;32m-> 1402\u001b[0;31m     with get_handle(\n\u001b[0m\u001b[1;32m   1403\u001b[0m         \u001b[0mcontent_or_path\u001b[0m\u001b[0;34m,\u001b[0m \u001b[0;34m\"rb\"\u001b[0m\u001b[0;34m,\u001b[0m \u001b[0mstorage_options\u001b[0m\u001b[0;34m=\u001b[0m\u001b[0mstorage_options\u001b[0m\u001b[0;34m,\u001b[0m \u001b[0mis_text\u001b[0m\u001b[0;34m=\u001b[0m\u001b[0;32mFalse\u001b[0m\u001b[0;34m\u001b[0m\u001b[0;34m\u001b[0m\u001b[0m\n\u001b[1;32m   1404\u001b[0m     ) as handle:\n",
      "\u001b[0;32m/usr/local/lib/python3.10/dist-packages/pandas/io/common.py\u001b[0m in \u001b[0;36mget_handle\u001b[0;34m(path_or_buf, mode, encoding, compression, memory_map, is_text, errors, storage_options)\u001b[0m\n\u001b[1;32m    880\u001b[0m         \u001b[0;32melse\u001b[0m\u001b[0;34m:\u001b[0m\u001b[0;34m\u001b[0m\u001b[0;34m\u001b[0m\u001b[0m\n\u001b[1;32m    881\u001b[0m             \u001b[0;31m# Binary mode\u001b[0m\u001b[0;34m\u001b[0m\u001b[0;34m\u001b[0m\u001b[0m\n\u001b[0;32m--> 882\u001b[0;31m             \u001b[0mhandle\u001b[0m \u001b[0;34m=\u001b[0m \u001b[0mopen\u001b[0m\u001b[0;34m(\u001b[0m\u001b[0mhandle\u001b[0m\u001b[0;34m,\u001b[0m \u001b[0mioargs\u001b[0m\u001b[0;34m.\u001b[0m\u001b[0mmode\u001b[0m\u001b[0;34m)\u001b[0m\u001b[0;34m\u001b[0m\u001b[0;34m\u001b[0m\u001b[0m\n\u001b[0m\u001b[1;32m    883\u001b[0m         \u001b[0mhandles\u001b[0m\u001b[0;34m.\u001b[0m\u001b[0mappend\u001b[0m\u001b[0;34m(\u001b[0m\u001b[0mhandle\u001b[0m\u001b[0;34m)\u001b[0m\u001b[0;34m\u001b[0m\u001b[0;34m\u001b[0m\u001b[0m\n\u001b[1;32m    884\u001b[0m \u001b[0;34m\u001b[0m\u001b[0m\n",
      "\u001b[0;31mFileNotFoundError\u001b[0m: [Errno 2] No such file or directory: '/kaggle/input/widsdatathon2025/TRAIN/TRAIN_QUANTITATIVE_METADATA.xlsx'"
     ]
    }
   ],
   "source": [
    "filenameq = os.path.join(os.getcwd(), \"/kaggle/input/widsdatathon2025/TRAIN/TRAIN_QUANTITATIVE_METADATA.xlsx\")\n",
    "quant = pd.read_excel(filenameq)\n",
    "quant.head()"
   ]
  },
  {
   "cell_type": "code",
   "execution_count": null,
   "id": "9021185f",
   "metadata": {
    "execution": {
     "iopub.execute_input": "2025-02-22T19:50:21.834144Z",
     "iopub.status.busy": "2025-02-22T19:50:21.833533Z",
     "iopub.status.idle": "2025-02-22T19:50:22.192333Z",
     "shell.execute_reply": "2025-02-22T19:50:22.191156Z",
     "shell.execute_reply.started": "2025-02-22T19:50:21.834103Z"
    },
    "papermill": {
     "duration": null,
     "end_time": null,
     "exception": null,
     "start_time": null,
     "status": "pending"
    },
    "tags": []
   },
   "outputs": [],
   "source": [
    "sns.histplot(data=quant, x=\"EHQ_EHQ_Total\")"
   ]
  },
  {
   "cell_type": "markdown",
   "id": "b5dab650",
   "metadata": {
    "papermill": {
     "duration": null,
     "end_time": null,
     "exception": null,
     "start_time": null,
     "status": "pending"
    },
    "tags": []
   },
   "source": [
    "# 2. creating final dataframe"
   ]
  },
  {
   "cell_type": "code",
   "execution_count": null,
   "id": "10ad2722",
   "metadata": {
    "execution": {
     "iopub.execute_input": "2025-02-22T19:50:22.193807Z",
     "iopub.status.busy": "2025-02-22T19:50:22.193461Z",
     "iopub.status.idle": "2025-02-22T19:50:22.295555Z",
     "shell.execute_reply": "2025-02-22T19:50:22.294556Z",
     "shell.execute_reply.started": "2025-02-22T19:50:22.193772Z"
    },
    "papermill": {
     "duration": null,
     "end_time": null,
     "exception": null,
     "start_time": null,
     "status": "pending"
    },
    "tags": []
   },
   "outputs": [],
   "source": [
    "filenames = os.path.join(os.getcwd(), \"/kaggle/input/widsdatathon2025/TRAIN/TRAINING_SOLUTIONS.xlsx\")\n",
    "labels = pd.read_excel(filenames)\n",
    "labels.head()"
   ]
  },
  {
   "cell_type": "code",
   "execution_count": null,
   "id": "74bdb2dd",
   "metadata": {
    "execution": {
     "iopub.execute_input": "2025-02-22T19:50:22.296727Z",
     "iopub.status.busy": "2025-02-22T19:50:22.296461Z",
     "iopub.status.idle": "2025-02-22T19:50:22.736103Z",
     "shell.execute_reply": "2025-02-22T19:50:22.734986Z",
     "shell.execute_reply.started": "2025-02-22T19:50:22.296700Z"
    },
    "papermill": {
     "duration": null,
     "end_time": null,
     "exception": null,
     "start_time": null,
     "status": "pending"
    },
    "tags": []
   },
   "outputs": [],
   "source": [
    "train = labels.merge(quant, on=\"participant_id\", how=\"inner\").merge(fmri, on=\"participant_id\", how=\"inner\")\n",
    "train = train.dropna(axis=0)\n",
    "train.head()"
   ]
  },
  {
   "cell_type": "code",
   "execution_count": null,
   "id": "c1fba112",
   "metadata": {
    "execution": {
     "iopub.execute_input": "2025-02-22T19:50:22.739924Z",
     "iopub.status.busy": "2025-02-22T19:50:22.739563Z",
     "iopub.status.idle": "2025-02-22T19:50:22.823414Z",
     "shell.execute_reply": "2025-02-22T19:50:22.822346Z",
     "shell.execute_reply.started": "2025-02-22T19:50:22.739892Z"
    },
    "papermill": {
     "duration": null,
     "end_time": null,
     "exception": null,
     "start_time": null,
     "status": "pending"
    },
    "tags": []
   },
   "outputs": [],
   "source": [
    "X = train.drop(columns = ['participant_id', 'ADHD_Outcome', 'Sex_F'])\n",
    "y = train[['ADHD_Outcome', 'Sex_F']]"
   ]
  },
  {
   "cell_type": "code",
   "execution_count": null,
   "id": "6c7ef110",
   "metadata": {
    "execution": {
     "iopub.execute_input": "2025-02-22T19:50:22.825352Z",
     "iopub.status.busy": "2025-02-22T19:50:22.824969Z",
     "iopub.status.idle": "2025-02-22T19:50:22.945608Z",
     "shell.execute_reply": "2025-02-22T19:50:22.944369Z",
     "shell.execute_reply.started": "2025-02-22T19:50:22.825313Z"
    },
    "papermill": {
     "duration": null,
     "end_time": null,
     "exception": null,
     "start_time": null,
     "status": "pending"
    },
    "tags": []
   },
   "outputs": [],
   "source": [
    "X_train, X_test, y_train, y_test = train_test_split(X, y, test_size = 0.3)"
   ]
  },
  {
   "cell_type": "code",
   "execution_count": null,
   "id": "362c7731",
   "metadata": {
    "execution": {
     "iopub.execute_input": "2025-02-22T19:50:22.947088Z",
     "iopub.status.busy": "2025-02-22T19:50:22.946731Z",
     "iopub.status.idle": "2025-02-22T19:50:23.998928Z",
     "shell.execute_reply": "2025-02-22T19:50:23.997834Z",
     "shell.execute_reply.started": "2025-02-22T19:50:22.947061Z"
    },
    "papermill": {
     "duration": null,
     "end_time": null,
     "exception": null,
     "start_time": null,
     "status": "pending"
    },
    "tags": []
   },
   "outputs": [],
   "source": [
    "scaler = StandardScaler()\n",
    "X_train = scaler.fit_transform(X_train)\n",
    "X_test = scaler.transform(X_test)"
   ]
  },
  {
   "cell_type": "code",
   "execution_count": null,
   "id": "72155a71",
   "metadata": {
    "execution": {
     "iopub.execute_input": "2025-02-22T19:50:24.000357Z",
     "iopub.status.busy": "2025-02-22T19:50:24.000041Z",
     "iopub.status.idle": "2025-02-22T19:50:24.008001Z",
     "shell.execute_reply": "2025-02-22T19:50:24.006775Z",
     "shell.execute_reply.started": "2025-02-22T19:50:24.000329Z"
    },
    "papermill": {
     "duration": null,
     "end_time": null,
     "exception": null,
     "start_time": null,
     "status": "pending"
    },
    "tags": []
   },
   "outputs": [],
   "source": [
    "print(X_train.shape)\n",
    "print(X_test.shape)\n",
    "print(y_train.shape)\n",
    "print(y_test.shape)"
   ]
  },
  {
   "cell_type": "markdown",
   "id": "bc9acac6",
   "metadata": {
    "papermill": {
     "duration": null,
     "end_time": null,
     "exception": null,
     "start_time": null,
     "status": "pending"
    },
    "tags": []
   },
   "source": [
    "# 3. Model"
   ]
  },
  {
   "cell_type": "code",
   "execution_count": null,
   "id": "454cc15d",
   "metadata": {
    "execution": {
     "iopub.execute_input": "2025-02-22T19:50:24.009287Z",
     "iopub.status.busy": "2025-02-22T19:50:24.009006Z",
     "iopub.status.idle": "2025-02-22T19:50:39.130019Z",
     "shell.execute_reply": "2025-02-22T19:50:39.128608Z",
     "shell.execute_reply.started": "2025-02-22T19:50:24.009263Z"
    },
    "papermill": {
     "duration": null,
     "end_time": null,
     "exception": null,
     "start_time": null,
     "status": "pending"
    },
    "tags": []
   },
   "outputs": [],
   "source": [
    "import tensorflow as tf\n",
    "from tensorflow.keras.models import Model\n",
    "from tensorflow.keras.layers import Dense, Input"
   ]
  },
  {
   "cell_type": "code",
   "execution_count": null,
   "id": "c35d816b",
   "metadata": {
    "execution": {
     "iopub.execute_input": "2025-02-22T19:50:39.131831Z",
     "iopub.status.busy": "2025-02-22T19:50:39.131180Z",
     "iopub.status.idle": "2025-02-22T19:50:39.232967Z",
     "shell.execute_reply": "2025-02-22T19:50:39.231953Z",
     "shell.execute_reply.started": "2025-02-22T19:50:39.131800Z"
    },
    "papermill": {
     "duration": null,
     "end_time": null,
     "exception": null,
     "start_time": null,
     "status": "pending"
    },
    "tags": []
   },
   "outputs": [],
   "source": [
    "inputs = tf.keras.layers.Input(shape=(X_train.shape[1],))\n",
    "\n",
    "# adding the dense layers\n",
    "x = Dense(units=32, activation='relu')(inputs)\n",
    "x = Dense(units=32, activation='relu')(x)\n",
    "\n",
    "# Output layer for predicting sex\n",
    "out1 = Dense(units = 1, activation='sigmoid', name='sex')(x)\n",
    "\n",
    "# ?? \n",
    "quality_layer=Dense(units=64, name='quality_layer', activation='relu')(x)\n",
    "\n",
    "# output layer for predicting adhd diagnosis \n",
    "out2 = Dense(units=1, name='adhd')(quality_layer)\n",
    "\n",
    " \n",
    "model = Model(inputs=inputs, outputs=[out2, out1])"
   ]
  },
  {
   "cell_type": "code",
   "execution_count": null,
   "id": "49d291f6",
   "metadata": {
    "execution": {
     "iopub.execute_input": "2025-02-22T19:50:39.234472Z",
     "iopub.status.busy": "2025-02-22T19:50:39.234210Z",
     "iopub.status.idle": "2025-02-22T19:50:39.251369Z",
     "shell.execute_reply": "2025-02-22T19:50:39.250162Z",
     "shell.execute_reply.started": "2025-02-22T19:50:39.234450Z"
    },
    "papermill": {
     "duration": null,
     "end_time": null,
     "exception": null,
     "start_time": null,
     "status": "pending"
    },
    "tags": []
   },
   "outputs": [],
   "source": [
    "optimizer = tf.keras.optimizers.Adam()\n",
    "\n",
    " #compiling the model\n",
    "model.compile(optimizer=optimizer, \n",
    "              loss = {'sex' : 'binary_crossentropy', \n",
    "                      'adhd' : 'binary_crossentropy'\n",
    "                     },\n",
    "              metrics = {'sex' : 'accuracy', \n",
    "                         'adhd': 'accuracy'\n",
    "                       }\n",
    "             )"
   ]
  },
  {
   "cell_type": "code",
   "execution_count": null,
   "id": "563b0b3b",
   "metadata": {
    "execution": {
     "iopub.execute_input": "2025-02-22T19:50:39.253230Z",
     "iopub.status.busy": "2025-02-22T19:50:39.252748Z",
     "iopub.status.idle": "2025-02-22T19:50:39.278027Z",
     "shell.execute_reply": "2025-02-22T19:50:39.277001Z",
     "shell.execute_reply.started": "2025-02-22T19:50:39.253188Z"
    },
    "papermill": {
     "duration": null,
     "end_time": null,
     "exception": null,
     "start_time": null,
     "status": "pending"
    },
    "tags": []
   },
   "outputs": [],
   "source": [
    "model.summary()"
   ]
  },
  {
   "cell_type": "code",
   "execution_count": null,
   "id": "7d98afc7",
   "metadata": {
    "execution": {
     "iopub.execute_input": "2025-02-22T19:50:39.279387Z",
     "iopub.status.busy": "2025-02-22T19:50:39.279086Z",
     "iopub.status.idle": "2025-02-22T19:50:39.768132Z",
     "shell.execute_reply": "2025-02-22T19:50:39.766924Z",
     "shell.execute_reply.started": "2025-02-22T19:50:39.279349Z"
    },
    "papermill": {
     "duration": null,
     "end_time": null,
     "exception": null,
     "start_time": null,
     "status": "pending"
    },
    "tags": []
   },
   "outputs": [],
   "source": [
    "tf.keras.utils.plot_model(model, show_shapes=True, show_layer_names=True)\n"
   ]
  },
  {
   "cell_type": "code",
   "execution_count": null,
   "id": "8bd7db04",
   "metadata": {
    "execution": {
     "iopub.execute_input": "2025-02-22T19:50:39.769547Z",
     "iopub.status.busy": "2025-02-22T19:50:39.769243Z",
     "iopub.status.idle": "2025-02-22T19:50:44.370238Z",
     "shell.execute_reply": "2025-02-22T19:50:44.368917Z",
     "shell.execute_reply.started": "2025-02-22T19:50:39.769522Z"
    },
    "papermill": {
     "duration": null,
     "end_time": null,
     "exception": null,
     "start_time": null,
     "status": "pending"
    },
    "tags": []
   },
   "outputs": [],
   "source": [
    "# train\n",
    "history = model.fit(\n",
    "    X_train, \n",
    "    {'sex': y_train['Sex_F'], 'adhd': y_train['ADHD_Outcome']}, \n",
    "    epochs=10, \n",
    "    batch_size=32\n",
    ")"
   ]
  },
  {
   "cell_type": "markdown",
   "id": "a7ae9f58",
   "metadata": {
    "papermill": {
     "duration": null,
     "end_time": null,
     "exception": null,
     "start_time": null,
     "status": "pending"
    },
    "tags": []
   },
   "source": [
    "# Submission"
   ]
  },
  {
   "cell_type": "code",
   "execution_count": null,
   "id": "a815b2fe",
   "metadata": {
    "execution": {
     "iopub.execute_input": "2025-02-22T19:50:44.372165Z",
     "iopub.status.busy": "2025-02-22T19:50:44.371701Z",
     "iopub.status.idle": "2025-02-22T19:50:49.189222Z",
     "shell.execute_reply": "2025-02-22T19:50:49.188002Z",
     "shell.execute_reply.started": "2025-02-22T19:50:44.372124Z"
    },
    "papermill": {
     "duration": null,
     "end_time": null,
     "exception": null,
     "start_time": null,
     "status": "pending"
    },
    "tags": []
   },
   "outputs": [],
   "source": [
    "# get testing data\n",
    "filenametf = os.path.join(os.getcwd(), \"/kaggle/input/widsdatathon2025/TEST/TEST_FUNCTIONAL_CONNECTOME_MATRICES.csv\")\n",
    "fmrit = pd.read_csv(filenametf, header=0)\n",
    "\n",
    "filenametq = os.path.join(os.getcwd(), \"/kaggle/input/widsdatathon2025/TEST/TEST_QUANTITATIVE_METADATA.xlsx\")\n",
    "quantt = pd.read_excel(filenametq)\n",
    "quant.head()"
   ]
  },
  {
   "cell_type": "code",
   "execution_count": null,
   "id": "a675d8a2",
   "metadata": {
    "execution": {
     "iopub.execute_input": "2025-02-22T19:53:20.341726Z",
     "iopub.status.busy": "2025-02-22T19:53:20.341353Z",
     "iopub.status.idle": "2025-02-22T19:53:20.396272Z",
     "shell.execute_reply": "2025-02-22T19:53:20.394950Z",
     "shell.execute_reply.started": "2025-02-22T19:53:20.341698Z"
    },
    "papermill": {
     "duration": null,
     "end_time": null,
     "exception": null,
     "start_time": null,
     "status": "pending"
    },
    "tags": []
   },
   "outputs": [],
   "source": [
    "test = fmrit.merge(quantt, on=\"participant_id\", how=\"inner\")\n",
    "test.head()"
   ]
  },
  {
   "cell_type": "code",
   "execution_count": null,
   "id": "b1ca1633",
   "metadata": {
    "execution": {
     "iopub.execute_input": "2025-02-22T19:58:16.771936Z",
     "iopub.status.busy": "2025-02-22T19:58:16.771502Z",
     "iopub.status.idle": "2025-02-22T19:58:16.814539Z",
     "shell.execute_reply": "2025-02-22T19:58:16.813478Z",
     "shell.execute_reply.started": "2025-02-22T19:58:16.771904Z"
    },
    "papermill": {
     "duration": null,
     "end_time": null,
     "exception": null,
     "start_time": null,
     "status": "pending"
    },
    "tags": []
   },
   "outputs": [],
   "source": [
    "ids = test['participant_id']\n",
    "features = test.drop(columns = 'participant_id')\n",
    "print(ids.head())\n",
    "print(features.head())"
   ]
  },
  {
   "cell_type": "code",
   "execution_count": null,
   "id": "cfd769c2",
   "metadata": {
    "papermill": {
     "duration": null,
     "end_time": null,
     "exception": null,
     "start_time": null,
     "status": "pending"
    },
    "tags": []
   },
   "outputs": [],
   "source": []
  }
 ],
 "metadata": {
  "kaggle": {
   "accelerator": "none",
   "dataSources": [
    {
     "databundleVersionId": 10712530,
     "sourceId": 90566,
     "sourceType": "competition"
    }
   ],
   "dockerImageVersionId": 30918,
   "isGpuEnabled": false,
   "isInternetEnabled": true,
   "language": "python",
   "sourceType": "notebook"
  },
  "kernelspec": {
   "display_name": "Python 3",
   "language": "python",
   "name": "python3"
  },
  "language_info": {
   "codemirror_mode": {
    "name": "ipython",
    "version": 3
   },
   "file_extension": ".py",
   "mimetype": "text/x-python",
   "name": "python",
   "nbconvert_exporter": "python",
   "pygments_lexer": "ipython3",
   "version": "3.10.12"
  },
  "papermill": {
   "default_parameters": {},
   "duration": 23.794162,
   "end_time": "2025-03-22T17:09:34.195241",
   "environment_variables": {},
   "exception": true,
   "input_path": "__notebook__.ipynb",
   "output_path": "__notebook__.ipynb",
   "parameters": {},
   "start_time": "2025-03-22T17:09:10.401079",
   "version": "2.6.0"
  }
 },
 "nbformat": 4,
 "nbformat_minor": 5
}
